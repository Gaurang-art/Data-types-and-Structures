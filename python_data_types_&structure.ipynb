{
  "nbformat": 4,
  "nbformat_minor": 0,
  "metadata": {
    "colab": {
      "provenance": []
    },
    "kernelspec": {
      "name": "python3",
      "display_name": "Python 3"
    },
    "language_info": {
      "name": "python"
    }
  },
  "cells": [
    {
      "cell_type": "markdown",
      "source": [
        "# Data Types and Structures Assignment"
      ],
      "metadata": {
        "id": "UgfscOIZhKH9"
      }
    },
    {
      "cell_type": "markdown",
      "source": [
        "# **Theory**"
      ],
      "metadata": {
        "id": "BiVXdfawgCO3"
      }
    },
    {
      "cell_type": "markdown",
      "source": [
        " 1. What are data structures and why are they important ?\n",
        "     - Data structures are ways of organizing and stroing data in a computer so that it can be accessed and manupulated effeciently.Some example of date structures are string , list , set , dictionary , tuples , array.\n",
        "     - They make data access and operations (like search, insert, delete) faster. Help keep code clean and manageable, Essential for solving many programming and algorithmic problems and also Algorithm Support .\n"
      ],
      "metadata": {
        "id": "a8xO7buZhfbG"
      }
    },
    {
      "cell_type": "markdown",
      "source": [
        "2. Explain the difference between mutable and immutable data types with examples\n",
        " - Mutable can be canged easily after creation , you can add , remove or modify elements easily in same object . Some examples of mutable date types are list , set , dictionary.\n",
        "\n",
        " - But immutable data types can't be changed after creation and you can't add add , remove or modify elements easily in same object. Some examples of immutable data types are string , tuple , int , float."
      ],
      "metadata": {
        "id": "k-2LOGGViHVs"
      }
    },
    {
      "cell_type": "markdown",
      "source": [
        "3. What are the main differences between lists and tuples in Python ?\n",
        " - Lists are mutable but tuples are immutable.\n",
        " - we use [ ] to create list but for tuple we use ( ) .\n",
        " - Tuples are generally faster than lists because they are immutable and use   less memory."
      ],
      "metadata": {
        "id": "pcrt_33IibMl"
      }
    },
    {
      "cell_type": "markdown",
      "source": [
        "4. Describe how dictionaries store data .\n",
        " - In Python, a dictionary is a built-in data structure that stores data in the form of key-value pairs. Each key is used to uniquely identify a value, allowing for fast and efficient access to data. it is defiend as using { } and each key followed by a colon."
      ],
      "metadata": {
        "id": "ukmexzxMuJLB"
      }
    },
    {
      "cell_type": "markdown",
      "source": [
        "5. Why might you use a set instead of a list in Python ?\n",
        " - One of the main reasons to use a set instead of a list is to ensure data uniqueness. When working with data where duplicates are not allowed such as a collection of unique usernames or IDs a set automatically removes duplicate values, which saves time and effort."
      ],
      "metadata": {
        "id": "IHk0xmOOurni"
      }
    },
    {
      "cell_type": "markdown",
      "source": [
        "   6. What is a string in Python and how is it different from list ?\n",
        " - Strings are immutable, while lists are mutable.\n",
        " - Strings contain only characters, while lists can contain elements of any data type.\n",
        " - Strings are defined using quotes, whereas lists are defined using square brackets.\n",
        " - Strings are primarily used for textual data, while lists are used for general-purpose data storage and manipulation."
      ],
      "metadata": {
        "id": "PrmfdMeWu4bt"
      }
    },
    {
      "cell_type": "markdown",
      "source": [
        "7. How do tuples ensure data integrity in Python ?\n",
        " - Tuples is immutable so it is remain same after creation , can't be modified . Data integrity refers to the accuracy and consistency of data over its lifecycle. By using tuples, programmers can protect data from accidental changes. Since tuples do not allow modification, they are ideal for storing constant or fixed data that should not be altered during the execution of a program."
      ],
      "metadata": {
        "id": "RUm9QoAOvFQo"
      }
    },
    {
      "cell_type": "markdown",
      "source": [
        " 8. What is hash table and how does it relate to dictionaries in Pyhthon ?\n",
        "  - A hash table is a data structure that stores data in an associative manner. It uses a technique called hashing, where a key is converted into an index of an array using a hash function.\n",
        "  - Each key-value pair in a dictionary is stored based on the hash of the key. When we access a value using a key, Python internally computes the hash of the key to find the index where the value is stored."
      ],
      "metadata": {
        "id": "aRDtG17kvIjc"
      }
    },
    {
      "cell_type": "markdown",
      "source": [
        "  9. Can lists contain different data types in Python ?\n",
        " - Yes , Python lists is heterogeneous , it cotain different data types like int , strng , complex , float etc."
      ],
      "metadata": {
        "id": "wH0e5gjRvQjQ"
      }
    },
    {
      "cell_type": "markdown",
      "source": [
        "  10. Explain why strings are immutable in Python ?\n",
        " - The primary reason strings are immutable in Python is because they are implemented as sequences of Unicode characters that are stored in memory as fixed, read-only data. When a string is created, Python allocates a fixed block of memory for it. Allowing in-place modifications would require copying or shifting data, which would make strings slower and more complex to manage.\n",
        " - Strings are implemented as immutable for performance, simplicity, and correctness in the design of the Python interpreter."
      ],
      "metadata": {
        "id": "veNLe1bivfLS"
      }
    },
    {
      "cell_type": "markdown",
      "source": [
        "  11. What advantages do dictionaries offer over lists for certain task ?\n",
        " - While lists store items in a linear, ordered sequence using numeric indexes, dictionaries store data as key-value pairs, enabling faster and more meaningful data access.\n",
        " - no need to remember index position in dictionary"
      ],
      "metadata": {
        "id": "xvTfb6jtvtrC"
      }
    },
    {
      "cell_type": "markdown",
      "source": [
        "   12. Describe a scenario where using a tuple would be preferable over a list .\n",
        " - A tuple is preferable over a list when the data should remain constant, such as storing coordinates, RGB color values, or days of the week.\n",
        " - Scenario: Representing Days of the Week ;-\n",
        "In many applications, you may need to store the days of the week as a fixed sequence of values. Since the names of the days do not change, a tuple is the ideal data structure for this purpose ."
      ],
      "metadata": {
        "id": "wGfxPJsxvwsj"
      }
    },
    {
      "cell_type": "markdown",
      "source": [
        "  13. How do sets handle duplicate values in Python ?\n",
        " - In Python, a set is an unordered collection of unique elements. When elements are added to a set, Python checks if the element already exists in the set.If the element is not present, it is added.\n",
        "If the element already exists, the set ignores the duplicate and does not add it again."
      ],
      "metadata": {
        "id": "4NPKumPFv7ct"
      }
    },
    {
      "cell_type": "markdown",
      "source": [
        " 14. How does the \"in\" keyword work differently for lists and dictionaries ?\n",
        "  - Using in with Lists:\n",
        "When using in with a list, Python checks whether the specified value is present anywhere in the list.This requires Python to search sequentially through the list items until it finds a match or reaches the end.This operation has a linear time complexity, meaning the time to check increases with the size of the list.\n",
        "  - Using in with Dictionaries: When using in with a dictionary, Python checks whether the specified key exists in the dictionary.Dictionaries are implemented as hash tables, so key lookup is very fast, typically constant time.Importantly, in checks only keys, not values, in dictionaries."
      ],
      "metadata": {
        "id": "BmtdSOOnwDws"
      }
    },
    {
      "cell_type": "markdown",
      "source": [
        "  15. Can you modify the elements of a tuple ? Explain why or why not .\n",
        " - Tuples are immutable, which means that once a tuple is created, its elements cannot be changed, added, or removed. Therefore, you cannot modify the elements of a tuple.\n",
        " - When a tuple is created, Python allocates a fixed block of memory for it. Allowing modifications would require resizing or copying, which contradicts the concept of immutability."
      ],
      "metadata": {
        "id": "fZDRl-TawRBM"
      }
    },
    {
      "cell_type": "markdown",
      "source": [
        "  16. What is nested dictionaries and give me an example of its use case ?\n",
        " - A nested dictionary in Python is a dictionary where the values themselves are dictionaries. This allows you to represent complex, hierarchical data structures in a clear and organized way.\n",
        " - use case : Storing Product Information in an Online Store ;\n",
        "Suppose you are building an e-commerce application, and you need to store detailed information about products. Each product has attributes like price, stock, and details such as brand and category."
      ],
      "metadata": {
        "id": "PDi5wKu6wdZW"
      }
    },
    {
      "cell_type": "markdown",
      "source": [
        "  17. Describe the time complexity of accessing elements in a dictionary .\n",
        " - In Python, a dictionary is an unordered collection of key-value pairs implemented using a hash table .Accessing elements in a dictionary by key is generally very efficient, with an average-case time complexity of O(1) due to Python’s underlying hash table implementation. This efficiency makes dictionaries ideal for fast lookups and large-scale data management."
      ],
      "metadata": {
        "id": "RLRN5Cdjwiyw"
      }
    },
    {
      "cell_type": "markdown",
      "source": [
        "  18. In what situations are lists preffered over dictionaries ?\n",
        " - Lists are preferred in situations where order, indexing, or simple collections of items are needed, especially when keys are not required. They are ideal for handling sequential data, performing positional operations, or when duplicate items are needed."
      ],
      "metadata": {
        "id": "Z-BwKcOYwrRR"
      }
    },
    {
      "cell_type": "markdown",
      "source": [
        "  19. why are dictionaries considered unordered and how does that affect data retrieval ?\n",
        "   - dictionaries were considered unordered collections, which means they did not maintain the order in which items were added.\n",
        "  Dictionaries were originally considered unordered because their internal structure was based on hashing, not the sequence of insertion. Although modern versions of Python preserve insertion order, dictionaries are still designed for fast key-based access, not position-based operations.This makes them powerful for lookups but less suited for tasks where the sequence of data is important.\n",
        "   - Dictionaries use keys, not positions, to retrieve data.You cannot access items by index like in a list (my_dict[0] is invalid).The order of items doesn’t affect key-based access you still get the correct value for a given key.In Python versions before 3.7, the order of items when looping through a dictionary was not predictable."
      ],
      "metadata": {
        "id": "AjDmH4BuwwhN"
      }
    },
    {
      "cell_type": "markdown",
      "source": [
        "  20. Explain the difference between a list and a dictionary in terms of data retrieval .\n",
        " -\n",
        "A list stores items in a specific, ordered sequence. Data in a list is accessed using index numbers, which represent the position of an item. For example, my_list[2] retrieves the third item in the list. This makes lists ideal when the order of data matters, or when you need to perform operations based on item positions. it is slower\n",
        " - In contrast, a dictionary stores data as key-value pairs, and retrieval is done using keys instead of positions. For example, my_dict[\"name\"] retrieves the value associated with the key \"name\". This allows for faster and more direct access, especially when working with labeled data.\n",
        " - lists use index-based retrieval, while dictionaries use key-based retrieval."
      ],
      "metadata": {
        "id": "Ok5TJfo2xClc"
      }
    },
    {
      "cell_type": "markdown",
      "source": [
        "# **Practical**"
      ],
      "metadata": {
        "id": "3fcGJ2fixMqI"
      }
    },
    {
      "cell_type": "markdown",
      "source": [
        "  1. write a code to create a string with your name and print it ."
      ],
      "metadata": {
        "id": "L4JdLlqpxzab"
      }
    },
    {
      "cell_type": "code",
      "source": [
        " name = (\"my name is rahul\")\n",
        "print (name)"
      ],
      "metadata": {
        "colab": {
          "base_uri": "https://localhost:8080/"
        },
        "id": "EFdr-I0Ux6cH",
        "outputId": "844e518e-db67-4b85-fd41-40371ce4b9d7"
      },
      "execution_count": null,
      "outputs": [
        {
          "output_type": "stream",
          "name": "stdout",
          "text": [
            "my name is rahul\n"
          ]
        }
      ]
    },
    {
      "cell_type": "markdown",
      "source": [
        " 2. write a code to find the length of the string \"Hello World\" ."
      ],
      "metadata": {
        "id": "J22lhIc4ySBN"
      }
    },
    {
      "cell_type": "code",
      "source": [
        " a = (\"Hello World\")\n",
        "len(a)"
      ],
      "metadata": {
        "colab": {
          "base_uri": "https://localhost:8080/"
        },
        "id": "6lvJRGcbyigx",
        "outputId": "f4fc7b85-c6e6-49a2-8764-3c5081cb2c3d"
      },
      "execution_count": null,
      "outputs": [
        {
          "output_type": "execute_result",
          "data": {
            "text/plain": [
              "11"
            ]
          },
          "metadata": {},
          "execution_count": 3
        }
      ]
    },
    {
      "cell_type": "markdown",
      "source": [
        "  3. write a code to slice the first 3 characters from the string \"Python Programming\"."
      ],
      "metadata": {
        "id": "n7Xot2FPyp0_"
      }
    },
    {
      "cell_type": "code",
      "source": [
        " text = \"Python Programming\"\n",
        "sliced = text[:3]\n",
        "print(sliced)"
      ],
      "metadata": {
        "colab": {
          "base_uri": "https://localhost:8080/"
        },
        "id": "TbefZ5n0yzqE",
        "outputId": "cc04519b-ebed-419d-a420-c5a5c16b6417"
      },
      "execution_count": null,
      "outputs": [
        {
          "output_type": "stream",
          "name": "stdout",
          "text": [
            "Pyt\n"
          ]
        }
      ]
    },
    {
      "cell_type": "markdown",
      "source": [
        " 4. write a code to convert the string \"hello\" to uppercase."
      ],
      "metadata": {
        "id": "oagnjtxsy48n"
      }
    },
    {
      "cell_type": "code",
      "source": [
        " text = \"hello\"\n",
        "uppercase_text = text.upper()\n",
        "print(uppercase_text)"
      ],
      "metadata": {
        "colab": {
          "base_uri": "https://localhost:8080/"
        },
        "id": "swD427Qxy_yw",
        "outputId": "add6a1ce-f93a-435d-8108-653e47d54135"
      },
      "execution_count": null,
      "outputs": [
        {
          "output_type": "stream",
          "name": "stdout",
          "text": [
            "HELLO\n"
          ]
        }
      ]
    },
    {
      "cell_type": "markdown",
      "source": [
        " 5. write a code to replace the word \"apple\" with \"orange\" in the string \" i like apple \"."
      ],
      "metadata": {
        "id": "Zg_iU545zJBq"
      }
    },
    {
      "cell_type": "code",
      "source": [
        " text = \"i like apple\"\n",
        "new_text = text.replace(\"apple\", \"orange\")\n",
        "print(new_text)"
      ],
      "metadata": {
        "colab": {
          "base_uri": "https://localhost:8080/"
        },
        "id": "LJzLmOijzaeP",
        "outputId": "30ea7e19-f354-4f5e-e266-ce51d023a166"
      },
      "execution_count": null,
      "outputs": [
        {
          "output_type": "stream",
          "name": "stdout",
          "text": [
            "i like orange\n"
          ]
        }
      ]
    },
    {
      "cell_type": "markdown",
      "source": [
        " 6. write a code to create a list with numbers 1 to 5 and print it."
      ],
      "metadata": {
        "id": "9DnBXJg6XFAO"
      }
    },
    {
      "cell_type": "code",
      "source": [
        " list_count = [1,2,3,4,5]\n",
        "print(list_count)"
      ],
      "metadata": {
        "colab": {
          "base_uri": "https://localhost:8080/"
        },
        "id": "k1LE7RFPXNBq",
        "outputId": "4c2c67f9-07b6-4a5d-f11e-3e3cd32ac73f"
      },
      "execution_count": 1,
      "outputs": [
        {
          "output_type": "stream",
          "name": "stdout",
          "text": [
            "[1, 2, 3, 4, 5]\n"
          ]
        }
      ]
    },
    {
      "cell_type": "markdown",
      "source": [
        " 7. write a code to append the number 10 to the list [1,2,3,4] ."
      ],
      "metadata": {
        "id": "cNxje6wEXWNV"
      }
    },
    {
      "cell_type": "code",
      "source": [
        " numbers = [1,2,3,4]\n",
        "numbers.append(10)\n",
        "print(numbers)"
      ],
      "metadata": {
        "colab": {
          "base_uri": "https://localhost:8080/"
        },
        "id": "PyvtYXe_Xf93",
        "outputId": "605cad58-89c2-4262-c32b-b8cd708a407f"
      },
      "execution_count": 2,
      "outputs": [
        {
          "output_type": "stream",
          "name": "stdout",
          "text": [
            "[1, 2, 3, 4, 10]\n"
          ]
        }
      ]
    },
    {
      "cell_type": "markdown",
      "source": [
        " 8. write a code to remove the number 3 from the list [1,2,3,4,5]."
      ],
      "metadata": {
        "id": "QlRLLKiJXqDX"
      }
    },
    {
      "cell_type": "code",
      "source": [
        " numbers = [1,2,3,4,5]\n",
        "numbers.remove(3)\n",
        "print(numbers)"
      ],
      "metadata": {
        "colab": {
          "base_uri": "https://localhost:8080/"
        },
        "id": "NnLSTzDmX0mI",
        "outputId": "d41ec201-09c7-4cd4-8016-690d0fd6544a"
      },
      "execution_count": 4,
      "outputs": [
        {
          "output_type": "stream",
          "name": "stdout",
          "text": [
            "[1, 2, 4, 5]\n"
          ]
        }
      ]
    },
    {
      "cell_type": "markdown",
      "source": [
        " 9. write a code to access the second element in the list ['a','b','c','d'] ."
      ],
      "metadata": {
        "id": "Vz8UNLJLX686"
      }
    },
    {
      "cell_type": "code",
      "source": [
        " _list = [ 'a','b','c','d']\n",
        "_list[1]"
      ],
      "metadata": {
        "colab": {
          "base_uri": "https://localhost:8080/",
          "height": 36
        },
        "id": "ypuRjf6TYKt6",
        "outputId": "a4771096-90a0-4c02-ca1e-beb3abbb71c0"
      },
      "execution_count": 5,
      "outputs": [
        {
          "output_type": "execute_result",
          "data": {
            "text/plain": [
              "'b'"
            ],
            "application/vnd.google.colaboratory.intrinsic+json": {
              "type": "string"
            }
          },
          "metadata": {},
          "execution_count": 5
        }
      ]
    },
    {
      "cell_type": "markdown",
      "source": [
        " 10. write a code to reverse the list [10, 20, 30, 40, 50]"
      ],
      "metadata": {
        "id": "ORHz3WXnYQ_d"
      }
    },
    {
      "cell_type": "code",
      "source": [
        " num = [10,20,30,40,50]\n",
        "num.reverse()\n",
        "print(num)"
      ],
      "metadata": {
        "colab": {
          "base_uri": "https://localhost:8080/"
        },
        "id": "gjTIMUFSYXMd",
        "outputId": "47dedbfd-f46b-4951-8763-f09de8efb71b"
      },
      "execution_count": 6,
      "outputs": [
        {
          "output_type": "stream",
          "name": "stdout",
          "text": [
            "[50, 40, 30, 20, 10]\n"
          ]
        }
      ]
    },
    {
      "cell_type": "markdown",
      "source": [
        " 11. write a code to create a tuple with the elements 100, 200, 300 and print it ."
      ],
      "metadata": {
        "id": "930rva8TYl9-"
      }
    },
    {
      "cell_type": "code",
      "source": [
        " my_tuple = (100, 200, 300 )\n",
        "print(my_tuple)"
      ],
      "metadata": {
        "colab": {
          "base_uri": "https://localhost:8080/"
        },
        "id": "V6IGC-9nYrp0",
        "outputId": "fb863539-e661-456c-f576-6ca99f72778d"
      },
      "execution_count": 7,
      "outputs": [
        {
          "output_type": "stream",
          "name": "stdout",
          "text": [
            "(100, 200, 300)\n"
          ]
        }
      ]
    },
    {
      "cell_type": "markdown",
      "source": [
        " 12. write a code to access the second-to-last element of the tuple ( 'red', 'green','blue','yellow') ."
      ],
      "metadata": {
        "id": "ow2DFWR6Yy3S"
      }
    },
    {
      "cell_type": "code",
      "source": [
        "colour = ('red','green','blue','yellow' )\n",
        "colour[-2]"
      ],
      "metadata": {
        "colab": {
          "base_uri": "https://localhost:8080/",
          "height": 36
        },
        "id": "wYm8kydRY8p_",
        "outputId": "8b770452-8d49-4f4d-d1bc-8b8cd6f2c757"
      },
      "execution_count": 8,
      "outputs": [
        {
          "output_type": "execute_result",
          "data": {
            "text/plain": [
              "'blue'"
            ],
            "application/vnd.google.colaboratory.intrinsic+json": {
              "type": "string"
            }
          },
          "metadata": {},
          "execution_count": 8
        }
      ]
    },
    {
      "cell_type": "markdown",
      "source": [
        " 13. write a code to find the minimum number in the tuple (10,20,5,15) ."
      ],
      "metadata": {
        "id": "H9msGRHrZCF8"
      }
    },
    {
      "cell_type": "code",
      "source": [
        "num = (10,20,5,15)\n",
        "minimum = min(num)\n",
        "print(minimum)"
      ],
      "metadata": {
        "colab": {
          "base_uri": "https://localhost:8080/"
        },
        "id": "RN6R7PUgZIZQ",
        "outputId": "e0e82f66-24d9-42aa-b0e7-011df3d5849b"
      },
      "execution_count": 9,
      "outputs": [
        {
          "output_type": "stream",
          "name": "stdout",
          "text": [
            "5\n"
          ]
        }
      ]
    },
    {
      "cell_type": "markdown",
      "source": [
        "14. write a code to find the index of the element \"cat\" in the tuple ('dog','cat','rabbit')."
      ],
      "metadata": {
        "id": "-e55jbIBZOLy"
      }
    },
    {
      "cell_type": "code",
      "source": [
        " animal = ('dog','cat','rabbit')\n",
        "index = animal.index('cat')\n",
        "print(index)"
      ],
      "metadata": {
        "colab": {
          "base_uri": "https://localhost:8080/"
        },
        "id": "QQyIR8I5ZVQ8",
        "outputId": "46ee535b-a0a2-4911-c259-a7a2aacf31a4"
      },
      "execution_count": 10,
      "outputs": [
        {
          "output_type": "stream",
          "name": "stdout",
          "text": [
            "1\n"
          ]
        }
      ]
    },
    {
      "cell_type": "markdown",
      "source": [
        "15. write a code to create a tuple containing three different fruits and chek if \"kiwi\" is in it ."
      ],
      "metadata": {
        "id": "Tj3UooXAZhse"
      }
    },
    {
      "cell_type": "code",
      "source": [
        "fruit = (\"mango\",\"apple\",\"banana\")\n",
        "\"kiwi\" in fruit"
      ],
      "metadata": {
        "colab": {
          "base_uri": "https://localhost:8080/"
        },
        "id": "dpyXU0yRZj1r",
        "outputId": "2327a308-4f6a-49bb-af50-08ff6b7cc2d9"
      },
      "execution_count": 11,
      "outputs": [
        {
          "output_type": "execute_result",
          "data": {
            "text/plain": [
              "False"
            ]
          },
          "metadata": {},
          "execution_count": 11
        }
      ]
    },
    {
      "cell_type": "markdown",
      "source": [
        "16. write a code to create a set with the elements 'a','b','c' and print it ."
      ],
      "metadata": {
        "id": "Dz7JtTT8Zomb"
      }
    },
    {
      "cell_type": "code",
      "source": [
        "my_set = {'a','b','c'}\n",
        "print(my_set)"
      ],
      "metadata": {
        "colab": {
          "base_uri": "https://localhost:8080/"
        },
        "id": "1k8wucgNZwu-",
        "outputId": "15b766c6-126b-4927-a05f-aed0dd49c0f5"
      },
      "execution_count": 12,
      "outputs": [
        {
          "output_type": "stream",
          "name": "stdout",
          "text": [
            "{'a', 'c', 'b'}\n"
          ]
        }
      ]
    },
    {
      "cell_type": "markdown",
      "source": [
        "17. write a code to clear all elements from the set {1,2,3,4,5} ."
      ],
      "metadata": {
        "id": "cT1oSUapZ1dZ"
      }
    },
    {
      "cell_type": "code",
      "source": [
        "my_set = {1,2,3,4,5}\n",
        "my_set.clear()\n",
        "print(my_set)"
      ],
      "metadata": {
        "colab": {
          "base_uri": "https://localhost:8080/"
        },
        "id": "xraC6E6_Z8rE",
        "outputId": "3dd23fce-dbd2-4975-a8ee-cd16b60f56da"
      },
      "execution_count": 13,
      "outputs": [
        {
          "output_type": "stream",
          "name": "stdout",
          "text": [
            "set()\n"
          ]
        }
      ]
    },
    {
      "cell_type": "markdown",
      "source": [
        "18. write a code to remove the element 4 from the set {1,2,3,4} ."
      ],
      "metadata": {
        "id": "89cUrUp0aAxH"
      }
    },
    {
      "cell_type": "code",
      "source": [
        "my_set = {1,2,3,4}\n",
        "my_set.remove(4)\n",
        "print(my_set)"
      ],
      "metadata": {
        "colab": {
          "base_uri": "https://localhost:8080/"
        },
        "id": "jcQyHqgSaGLA",
        "outputId": "742cd043-cb6b-4848-dfba-1dcb64c1c3bf"
      },
      "execution_count": 14,
      "outputs": [
        {
          "output_type": "stream",
          "name": "stdout",
          "text": [
            "{1, 2, 3}\n"
          ]
        }
      ]
    },
    {
      "cell_type": "markdown",
      "source": [
        "19. write a code to find the union of two sets {1,2,3} and {3,4,5} ."
      ],
      "metadata": {
        "id": "ZI3hLyelaKRL"
      }
    },
    {
      "cell_type": "code",
      "source": [
        "set1 = {1, 2, 3}\n",
        "set2 = {3, 4, 5}\n",
        "union_set = set1.union(set2)\n",
        "print(union_set)"
      ],
      "metadata": {
        "colab": {
          "base_uri": "https://localhost:8080/"
        },
        "id": "lqjRjNiqaOS9",
        "outputId": "66f057c7-d5a3-408a-a3f6-2a7f9756d9ed"
      },
      "execution_count": 15,
      "outputs": [
        {
          "output_type": "stream",
          "name": "stdout",
          "text": [
            "{1, 2, 3, 4, 5}\n"
          ]
        }
      ]
    },
    {
      "cell_type": "markdown",
      "source": [
        "20. write a code to find the intersection of two sets {1,2,3] and {2,3,4} ."
      ],
      "metadata": {
        "id": "CV0-qTPHaTyu"
      }
    },
    {
      "cell_type": "code",
      "source": [
        "set1 = {1,2,3}\n",
        "set2 = {2,3,4}\n",
        "inter_set = set1.intersection(set2)\n",
        "print(inter_set)"
      ],
      "metadata": {
        "colab": {
          "base_uri": "https://localhost:8080/"
        },
        "id": "MMNBVSIiaY8R",
        "outputId": "0612735d-12c5-4061-b494-f89fa9df8a4d"
      },
      "execution_count": 16,
      "outputs": [
        {
          "output_type": "stream",
          "name": "stdout",
          "text": [
            "{2, 3}\n"
          ]
        }
      ]
    },
    {
      "cell_type": "markdown",
      "source": [
        "21. write a code to create a dictionary with the keys \"name\" , \"age\" and \"city\" , and print it  ."
      ],
      "metadata": {
        "id": "b5zpHP11adVb"
      }
    },
    {
      "cell_type": "code",
      "source": [
        "dictionary = {\"name\":\"Papai\", \"age\":24,\"city\":\"Malda\"}\n",
        "print(dictionary)"
      ],
      "metadata": {
        "colab": {
          "base_uri": "https://localhost:8080/"
        },
        "id": "kAg-Xw2zajr2",
        "outputId": "59c82d71-31ed-4133-8daf-1f6cd9876cc3"
      },
      "execution_count": 17,
      "outputs": [
        {
          "output_type": "stream",
          "name": "stdout",
          "text": [
            "{'name': 'Papai', 'age': 24, 'city': 'Malda'}\n"
          ]
        }
      ]
    },
    {
      "cell_type": "markdown",
      "source": [
        "22. write a code to add a new key-value pair \"country\":\"USA\" to the dictionary {'name':'John','age':25} ."
      ],
      "metadata": {
        "id": "KUXYsyChan7r"
      }
    },
    {
      "cell_type": "code",
      "source": [
        "person = {'name': 'John', 'age': 25}\n",
        "person['country'] = 'USA'\n",
        "print(person)"
      ],
      "metadata": {
        "colab": {
          "base_uri": "https://localhost:8080/"
        },
        "id": "K89xmYPPasV-",
        "outputId": "076c30c2-56b0-4f10-8456-e03f0ce871c3"
      },
      "execution_count": 18,
      "outputs": [
        {
          "output_type": "stream",
          "name": "stdout",
          "text": [
            "{'name': 'John', 'age': 25, 'country': 'USA'}\n"
          ]
        }
      ]
    },
    {
      "cell_type": "markdown",
      "source": [
        "23. write a code to access the value associated with the key \"name\" in the dictionary {'name':'Alice','age':30} ."
      ],
      "metadata": {
        "id": "UBgZabujazV3"
      }
    },
    {
      "cell_type": "code",
      "source": [
        "person = {'name':'Alice','age':30}\n",
        "person['name']"
      ],
      "metadata": {
        "colab": {
          "base_uri": "https://localhost:8080/",
          "height": 36
        },
        "id": "cxZviXuza5hq",
        "outputId": "ce50a97c-9d4e-4f6a-8e31-482b84cc5e07"
      },
      "execution_count": 20,
      "outputs": [
        {
          "output_type": "execute_result",
          "data": {
            "text/plain": [
              "'Alice'"
            ],
            "application/vnd.google.colaboratory.intrinsic+json": {
              "type": "string"
            }
          },
          "metadata": {},
          "execution_count": 20
        }
      ]
    },
    {
      "cell_type": "markdown",
      "source": [
        "24. write a code to remove the key \"age\" from the dictionary {'name': 'Bob','age':22,'city':'New York'} ."
      ],
      "metadata": {
        "id": "CnLdTCjZbFBd"
      }
    },
    {
      "cell_type": "code",
      "source": [
        "person = {'name': 'Bob','age':22,'city':'New York'}\n",
        "del person['age']\n",
        "print(person)"
      ],
      "metadata": {
        "colab": {
          "base_uri": "https://localhost:8080/"
        },
        "id": "9I-WkIlfbKVj",
        "outputId": "1fb69f48-5495-4956-e328-bd54890a67eb"
      },
      "execution_count": 21,
      "outputs": [
        {
          "output_type": "stream",
          "name": "stdout",
          "text": [
            "{'name': 'Bob', 'city': 'New York'}\n"
          ]
        }
      ]
    },
    {
      "cell_type": "markdown",
      "source": [
        "25. write a code to check if the key \"city\" exists in the dictionary {'name':'Alice', 'city':'Paris'} ."
      ],
      "metadata": {
        "id": "y5kN-yjMbZcH"
      }
    },
    {
      "cell_type": "code",
      "source": [
        "person = {'name':'Alice', 'city':'Paris'}\n",
        "'city' in person"
      ],
      "metadata": {
        "colab": {
          "base_uri": "https://localhost:8080/"
        },
        "id": "fKjp3hhObbwq",
        "outputId": "5a5752ec-f157-4564-95ed-3bc023158bfa"
      },
      "execution_count": 22,
      "outputs": [
        {
          "output_type": "execute_result",
          "data": {
            "text/plain": [
              "True"
            ]
          },
          "metadata": {},
          "execution_count": 22
        }
      ]
    },
    {
      "cell_type": "markdown",
      "source": [
        "26. write a code to create a list , a tuple and a dictionary and print them all ."
      ],
      "metadata": {
        "id": "MKioheyfbf14"
      }
    },
    {
      "cell_type": "code",
      "source": [
        "# Creating a list\n",
        "my_list = [1, 2, 3, 4, 5]\n",
        "\n",
        "# Creating a tuple\n",
        "my_tuple = ('apple', 'banana', 'cherry')\n",
        "\n",
        "# Creating a dictionary\n",
        "my_dict = {'name': 'Ravi', 'age': 28, 'city': 'Mumbai'}\n",
        "\n",
        "# Printing all collections\n",
        "print(\"List:\", my_list)\n",
        "print(\"Tuple:\", my_tuple)\n",
        "print(\"Dictionary:\", my_dict)"
      ],
      "metadata": {
        "colab": {
          "base_uri": "https://localhost:8080/"
        },
        "id": "zj38hTBkbmKe",
        "outputId": "55d27709-832c-438a-da1b-4ed36c69d6bf"
      },
      "execution_count": 23,
      "outputs": [
        {
          "output_type": "stream",
          "name": "stdout",
          "text": [
            "List: [1, 2, 3, 4, 5]\n",
            "Tuple: ('apple', 'banana', 'cherry')\n",
            "Dictionary: {'name': 'Ravi', 'age': 28, 'city': 'Mumbai'}\n"
          ]
        }
      ]
    },
    {
      "cell_type": "markdown",
      "source": [
        "27. write a code to create a list of 5 random numbers between 1 and 100 , sort it in ascending order and print the result . (replaced)"
      ],
      "metadata": {
        "id": "4VJHnAUibshZ"
      }
    },
    {
      "cell_type": "code",
      "source": [
        "import random\n",
        "\n",
        "# Create a list of 5 random numbers between 1 and 100\n",
        "random_numbers = [random.randint(1, 100) for _ in range(5)]\n",
        "\n",
        "# Sort the list in ascending order\n",
        "random_numbers.sort()\n",
        "\n",
        "# Print the sorted list\n",
        "print(\"Sorted list:\", random_numbers)"
      ],
      "metadata": {
        "colab": {
          "base_uri": "https://localhost:8080/"
        },
        "id": "Qk9rNSVwb1Ao",
        "outputId": "b48cbc98-159e-4f08-d0a9-773a9e25d87e"
      },
      "execution_count": 24,
      "outputs": [
        {
          "output_type": "stream",
          "name": "stdout",
          "text": [
            "Sorted list: [2, 34, 41, 78, 89]\n"
          ]
        }
      ]
    },
    {
      "cell_type": "markdown",
      "source": [
        "28. write a code to create a list with strings and print the element at the third index ."
      ],
      "metadata": {
        "id": "Id9-xNHob8CZ"
      }
    },
    {
      "cell_type": "code",
      "source": [
        "fruits = ['apple', 'banana', 'cherry', 'mango', 'orange']\n",
        "print(fruits[3])"
      ],
      "metadata": {
        "colab": {
          "base_uri": "https://localhost:8080/"
        },
        "id": "GDOsepq6cCME",
        "outputId": "971eb576-35e4-47b9-d40e-c8d563c54924"
      },
      "execution_count": 25,
      "outputs": [
        {
          "output_type": "stream",
          "name": "stdout",
          "text": [
            "mango\n"
          ]
        }
      ]
    },
    {
      "cell_type": "markdown",
      "source": [
        "29. write a code to combine two dictionaries into one and print the result ."
      ],
      "metadata": {
        "id": "XfDghgS3cU6K"
      }
    },
    {
      "cell_type": "code",
      "source": [
        "dict1 = {'name': 'Alice', 'age': 25}\n",
        "dict2 = {'city': 'Paris', 'country': 'France'}\n",
        "dict1.update(dict2)\n",
        "print(dict1)"
      ],
      "metadata": {
        "colab": {
          "base_uri": "https://localhost:8080/"
        },
        "id": "NiCSYS32cakd",
        "outputId": "b64e1f58-47a7-4cfd-90f0-630af2bce30e"
      },
      "execution_count": 26,
      "outputs": [
        {
          "output_type": "stream",
          "name": "stdout",
          "text": [
            "{'name': 'Alice', 'age': 25, 'city': 'Paris', 'country': 'France'}\n"
          ]
        }
      ]
    },
    {
      "cell_type": "markdown",
      "source": [
        "30. write a code to convert a list of strings into a set ."
      ],
      "metadata": {
        "id": "k-IUVax2cidh"
      }
    },
    {
      "cell_type": "code",
      "source": [
        "my_list = ['apple', 'banana', 'cherry', 'mango', 'orange']\n",
        "set(my_list)"
      ],
      "metadata": {
        "colab": {
          "base_uri": "https://localhost:8080/"
        },
        "id": "atYkJBOWclV4",
        "outputId": "f8fe42ba-589c-42b9-c587-759bcefecc04"
      },
      "execution_count": 27,
      "outputs": [
        {
          "output_type": "execute_result",
          "data": {
            "text/plain": [
              "{'apple', 'banana', 'cherry', 'mango', 'orange'}"
            ]
          },
          "metadata": {},
          "execution_count": 27
        }
      ]
    }
  ]
}